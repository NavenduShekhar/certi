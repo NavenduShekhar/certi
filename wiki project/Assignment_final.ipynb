{
 "cells": [
  {
   "cell_type": "code",
   "execution_count": 3,
   "metadata": {},
   "outputs": [],
   "source": [
    "import wikipedia\n",
    "import numpy as np\n",
    "import pandas as pd\n",
    "import matplotlib.pyplot as plt\n",
    "import seaborn as sns"
   ]
  },
  {
   "cell_type": "code",
   "execution_count": null,
   "metadata": {},
   "outputs": [],
   "source": [
    "def link_check(name):\n",
    "    try:\n",
    "        film_page = wikipedia.page('{}'.format(name))\n",
    "        ##film_url = film_page.url\n",
    "        film_plot = film_page.section('Plot')\n",
    "        if film_plot == None:\n",
    "            return False\n",
    "        else:\n",
    "            return True\n",
    "    except:\n",
    "        return False"
   ]
  },
  {
   "cell_type": "code",
   "execution_count": null,
   "metadata": {},
   "outputs": [],
   "source": [
    "film_check = link_check('the battle of algiers 1967 film')\n",
    "print(film_check)"
   ]
  },
  {
   "cell_type": "code",
   "execution_count": 4,
   "metadata": {},
   "outputs": [],
   "source": [
    "def film_data_process(film):\n",
    "    film_release = ' '\n",
    "    film_cast = ' '\n",
    "    film_page = wikipedia.page('{}'.format(film))\n",
    "    film_url = film_page.url\n",
    "    film_title = film_page.title\n",
    "    film_df = pd.read_html('{}'.format(film_url))\n",
    "    film_info = film_df[0]\n",
    "    col = film_info.columns\n",
    "    for i in range(len(film_info)):\n",
    "        if film_info[col[0]].iloc[i] == 'Starring':\n",
    "            film_cast = film_info[col[1]].iloc[i]\n",
    "        elif film_info[col[0]].iloc[i] == 'Release date':\n",
    "            film_release = film_info[col[1]].iloc[i]\n",
    "        else:\n",
    "            continue\n",
    "\n",
    "    film_plot = film_page.section('Plot')\n",
    "    film_data_list = [film_title,film_release,film_cast,film_plot]\n",
    "            \n",
    "    return film_data_list"
   ]
  },
  {
   "cell_type": "code",
   "execution_count": null,
   "metadata": {},
   "outputs": [],
   "source": [
    "data = film_data_process('2001: A Space Odyssey_1968_film')\n",
    "for i in data:\n",
    "    print(i)\n",
    "    print(type(i))\n",
    "print(type(data))"
   ]
  },
  {
   "cell_type": "code",
   "execution_count": 6,
   "metadata": {},
   "outputs": [],
   "source": [
    "movies_list_df_1 = pd.read_html('http://www.films101.com/t1000r.htm')\n",
    "movies_list_df_2 = pd.read_html('http://www.films101.com/t1000r2.htm')\n",
    "movies_list_df_3 = pd.read_html('http://www.films101.com/t1000r3.htm')\n",
    "\n",
    "\n",
    "def list_construction(mov_list):\n",
    "    movie_list = []\n",
    "    len_list = len(mov_list)\n",
    "    for i in range(1,len_list,2):\n",
    "        for j in range(len(mov_list[i])):\n",
    "            name = mov_list[i][1][j] + ' ' + str(mov_list[i][2][j]) +' film'\n",
    "            movie_list.append(name)\n",
    "    return movie_list\n",
    "\n",
    "list_movie = []\n",
    "list_movie_1  = list_construction(movies_list_df_1)\n",
    "list_movie_2  = list_construction(movies_list_df_2)\n",
    "list_movie_3  = list_construction(movies_list_df_3)\n",
    "def movie_append(mov_list):\n",
    "    for i in range(len(mov_list)):\n",
    "        list_movie.append(mov_list[i])\n",
    "movie_append(list_movie_1)\n",
    "movie_append(list_movie_2)\n",
    "movie_append(list_movie_3)\n"
   ]
  },
  {
   "cell_type": "code",
   "execution_count": null,
   "metadata": {},
   "outputs": [],
   "source": [
    "len(list_movie)"
   ]
  },
  {
   "cell_type": "code",
   "execution_count": null,
   "metadata": {},
   "outputs": [],
   "source": [
    "ind = 0\n",
    "for i in range(200):\n",
    "    if link_check(list_movie[i]):\n",
    "        ind = ind + 1\n",
    "        print('The film \"{}\" has index:{}'.format(list_movie[i],ind))\n",
    "    else:\n",
    "        continue"
   ]
  },
  {
   "cell_type": "code",
   "execution_count": null,
   "metadata": {},
   "outputs": [],
   "source": [
    "film_df = pd.DataFrame(data=None, columns='Movie_Title Release_date Movie_cast Movie_plot'.split())\n",
    "##film_df\n",
    "for i in range(len(list_movie)):\n",
    "    ##print(i)\n",
    "    if link_check('{}'.format(list_movie[i])):\n",
    "        film_data_cache = film_data_process('{}'.format(list_movie[i]))\n",
    "        film_df_2 = pd.DataFrame(data = [film_data_cache], columns='Movie_Title Release_date Movie_cast Movie_plot'.split())\n",
    "        film_df = pd.concat([film_df,film_df_2]) \n",
    "    else:\n",
    "        continue"
   ]
  }
 ],
 "metadata": {
  "kernelspec": {
   "display_name": "Python 3",
   "language": "python",
   "name": "python3"
  },
  "language_info": {
   "codemirror_mode": {
    "name": "ipython",
    "version": 3
   },
   "file_extension": ".py",
   "mimetype": "text/x-python",
   "name": "python",
   "nbconvert_exporter": "python",
   "pygments_lexer": "ipython3",
   "version": "3.7.6"
  }
 },
 "nbformat": 4,
 "nbformat_minor": 4
}
