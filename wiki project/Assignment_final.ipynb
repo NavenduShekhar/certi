{
 "cells": [
  {
   "cell_type": "code",
   "execution_count": 3,
   "metadata": {},
   "outputs": [],
   "source": [
    "import wikipedia\n",
    "import numpy as np\n",
    "import pandas as pd\n",
    "import matplotlib.pyplot as plt\n",
    "import seaborn as sns"
   ]
  },
  {
   "cell_type": "code",
   "execution_count": 4,
   "metadata": {},
   "outputs": [],
   "source": [
    "def film_data_process(film):\n",
    "    film_cast = None\n",
    "    film_release = None\n",
    "    film_title = None\n",
    "    film_plot = None\n",
    "    film_page = wikipedia.page('{}'.format(film))\n",
    "    film_url = film_page.url\n",
    "    film_title = film_page.title\n",
    "    film_df = pd.read_html('{}'.format(film_url))\n",
    "    film_info = film_df[0]\n",
    "    col = film_info.columns\n",
    "    for i in range(len(film_info)):\n",
    "        if film_info[col[0]].iloc[i] == 'Starring':\n",
    "            film_cast = film_info[col[1]].iloc[i]\n",
    "        elif film_info[col[0]].iloc[i] == 'Release date':\n",
    "            film_release = film_info[col[1]].iloc[i]\n",
    "        else:\n",
    "            continue\n",
    "\n",
    "    film_plot = film_page.section('Plot')\n",
    "            \n",
    "    return [film_title,film_release,film_cast,film_plot]"
   ]
  },
  {
   "cell_type": "code",
   "execution_count": 6,
   "metadata": {},
   "outputs": [],
   "source": [
    "movies_list_df_1 = pd.read_html('http://www.films101.com/t1000r.htm')\n",
    "movies_list_df_2 = pd.read_html('http://www.films101.com/t1000r2.htm')\n",
    "movies_list_df_3 = pd.read_html('http://www.films101.com/t1000r3.htm')\n",
    "\n",
    "def list_construction(mov_list):\n",
    "    movie_list = []\n",
    "    len_list = len(mov_list)\n",
    "    for i in range(1,len_list,2):\n",
    "        for j in range(len(mov_list[i])):\n",
    "            name = mov_list[i][1][j] + ' ' + str(mov_list[i][2][j]) + ' ' +mov_list[i][3][j]\n",
    "            movie_list.append(name)\n",
    "    return movie_list\n",
    "\n",
    "list_movie = []\n",
    "list_movie_1  = list_construction(movies_list_df_1)\n",
    "list_movie_2  = list_construction(movies_list_df_2)\n",
    "list_movie_3  = list_construction(movies_list_df_3)\n",
    "def movie_append(mov_list):\n",
    "    for i in range(len(mov_list)):\n",
    "        list_movie.append(mov_list[i])\n",
    "movie_append(list_movie_1)\n",
    "movie_append(list_movie_2)\n",
    "movie_append(list_movie_3)\n"
   ]
  },
  {
   "cell_type": "code",
   "execution_count": null,
   "metadata": {},
   "outputs": [],
   "source": []
  }
 ],
 "metadata": {
  "kernelspec": {
   "display_name": "Python 3",
   "language": "python",
   "name": "python3"
  },
  "language_info": {
   "codemirror_mode": {
    "name": "ipython",
    "version": 3
   },
   "file_extension": ".py",
   "mimetype": "text/x-python",
   "name": "python",
   "nbconvert_exporter": "python",
   "pygments_lexer": "ipython3",
   "version": "3.7.6"
  }
 },
 "nbformat": 4,
 "nbformat_minor": 4
}
